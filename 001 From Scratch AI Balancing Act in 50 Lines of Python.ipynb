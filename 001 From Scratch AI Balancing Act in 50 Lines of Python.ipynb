{
 "cells": [
  {
   "cell_type": "markdown",
   "metadata": {},
   "source": [
    "## Week one - https://github.com/andri27-ts/60_Days_RL_Challenge#week-1---introduction\n",
    "\n",
    "Please watch the videos of week one before see the code\n",
    "\n",
    "My code follow this blog https://towardsdatascience.com/from-scratch-ai-balancing-act-in-50-lines-of-python-7ea67ef717\n"
   ]
  },
  {
   "cell_type": "markdown",
   "metadata": {},
   "source": [
    "### To install environment\n",
    "conda install -c akode gym "
   ]
  },
  {
   "cell_type": "markdown",
   "metadata": {},
   "source": [
    "## Code time:"
   ]
  },
  {
   "cell_type": "code",
   "execution_count": 1,
   "metadata": {},
   "outputs": [],
   "source": [
    "import gym"
   ]
  },
  {
   "cell_type": "code",
   "execution_count": 2,
   "metadata": {},
   "outputs": [
    {
     "name": "stderr",
     "output_type": "stream",
     "text": [
      "/home/user/.conda/envs/RF/lib/python3.6/site-packages/gym/logger.py:30: UserWarning: \u001b[33mWARN: You are calling 'step()' even though this environment has already returned done = True. You should always call 'reset()' once you receive 'done = True' -- any further steps are undefined behavior.\u001b[0m\n",
      "  warnings.warn(colorize('%s: %s'%('WARN', msg % args), 'yellow'))\n"
     ]
    }
   ],
   "source": [
    "env = gym.make('CartPole-v0')\n",
    "env.reset()\n",
    "for _ in range(200):\n",
    "    env.render()\n",
    "    env.step(env.action_space.sample()) # take a random action\n",
    "env.close()"
   ]
  },
  {
   "cell_type": "markdown",
   "metadata": {},
   "source": [
    "## Read time:\n",
    "https://gym.openai.com/docs/\n",
    "\n",
    "Key words: Observations, Action Space\n",
    "\n",
    "State: A state is what the game looks like at the moment. We typically deal with numerical representation of games.\n",
    "\n",
    "Policy: A policy is a function that can take the state of the game (ex. position of board pieces, or where the cart and pole are) and output the action the agent should take in the position (ex. move the knight, or push the cart to the left)."
   ]
  },
  {
   "cell_type": "markdown",
   "metadata": {},
   "source": [
    "## Code time:"
   ]
  },
  {
   "cell_type": "code",
   "execution_count": 3,
   "metadata": {},
   "outputs": [
    {
     "name": "stdout",
     "output_type": "stream",
     "text": [
      "Episode finished after 34 timesteps\n",
      "Episode finished after 33 timesteps\n",
      "Episode finished after 13 timesteps\n",
      "Episode finished after 10 timesteps\n",
      "Episode finished after 25 timesteps\n"
     ]
    }
   ],
   "source": [
    "env = gym.make('CartPole-v0')\n",
    "for i_episode in range(5):\n",
    "    observation = env.reset()\n",
    "    for t in range(1000):\n",
    "        env.render()\n",
    "        # take random action\n",
    "        action = env.action_space.sample()\n",
    "        observation, reward, done, info = env.step(action)\n",
    "        if done:\n",
    "            print(\"Episode finished after {} timesteps\".format(t+1))\n",
    "            break\n",
    "env.close()"
   ]
  },
  {
   "cell_type": "code",
   "execution_count": 4,
   "metadata": {},
   "outputs": [],
   "source": [
    "# we only get less than 100 steps if we use random action."
   ]
  },
  {
   "cell_type": "markdown",
   "metadata": {},
   "source": [
    "### Spaces: action space and observation space\n",
    "In the examples above, we’ve been sampling random actions from the environment’s action space.\n",
    "\n",
    "But what actually are those actions? Every environment comes with an action_space and an observation_space. \n",
    "\n",
    "These attributes are of type Space, and they describe the format of valid actions and observations."
   ]
  },
  {
   "cell_type": "code",
   "execution_count": 5,
   "metadata": {},
   "outputs": [
    {
     "name": "stdout",
     "output_type": "stream",
     "text": [
      "We have Discrete(2) actions: pushing the cart left or right\n",
      "State have Box(4,) values: cart_position, cart_velocity, pole_angle, pole_velocity\n"
     ]
    }
   ],
   "source": [
    "env = gym.make('CartPole-v0', )\n",
    "print(f\"We have {env.action_space} actions: pushing the cart left or right\")\n",
    "print(f\"State have {env.observation_space} values: cart_position, cart_velocity, pole_angle, pole_velocity\")"
   ]
  },
  {
   "cell_type": "code",
   "execution_count": 6,
   "metadata": {
    "scrolled": false
   },
   "outputs": [
    {
     "name": "stdout",
     "output_type": "stream",
     "text": [
      "[4.8000002e+00 3.4028235e+38 4.1887903e-01 3.4028235e+38]\n",
      "[-4.8000002e+00 -3.4028235e+38 -4.1887903e-01 -3.4028235e+38]\n"
     ]
    }
   ],
   "source": [
    "# and limit of space:\n",
    "print(env.observation_space.high)\n",
    "print(env.observation_space.low)"
   ]
  },
  {
   "cell_type": "markdown",
   "metadata": {},
   "source": [
    "In the case of cart pole, our state is composed of 4 numbers: \n",
    " - the position of the cart.\n",
    " - the speed of the cart.\n",
    " - the position of the pole (as an angle).\n",
    " - the angular velocity of the pole. "
   ]
  },
  {
   "cell_type": "code",
   "execution_count": 7,
   "metadata": {},
   "outputs": [],
   "source": [
    "def print_state(state):\n",
    "    [cart_position, cart_velocity, pole_angle, pole_velocity] = state\n",
    "    print(f\"cart_position: {cart_position}, \\ncart_velocity: {cart_velocity} \\npole_angle {pole_angle}, \\npole_velocity {pole_velocity}\")"
   ]
  },
  {
   "cell_type": "code",
   "execution_count": 8,
   "metadata": {
    "scrolled": false
   },
   "outputs": [
    {
     "name": "stdout",
     "output_type": "stream",
     "text": [
      "cart_position: 0.04359785474820241, \n",
      "cart_velocity: 0.018802304126176964 \n",
      "pole_angle -0.03908218937460955, \n",
      "pole_velocity 0.033135432915376684\n"
     ]
    }
   ],
   "source": [
    "state = env.reset()\n",
    "print_state(state)"
   ]
  },
  {
   "cell_type": "code",
   "execution_count": 9,
   "metadata": {},
   "outputs": [],
   "source": [
    "class Policy():\n",
    "    def __init__(self, env):\n",
    "        self.action_space = env.action_space\n",
    "        self.action_names = ['left', 'right']\n",
    "    def get_next_action(self, state):\n",
    "        pass\n",
    "    def get_name(self, action):\n",
    "        return self.action_names[action]\n",
    "    def print_state(self, state):\n",
    "        [cart_position, cart_velocity, pole_angle, pole_velocity] = state\n",
    "        print(f\"cart_position: {cart_position}, \\ncart_velocity: {cart_velocity} \\npole_angle {pole_angle}, \\npole_velocity {pole_velocity}\")"
   ]
  },
  {
   "cell_type": "code",
   "execution_count": 10,
   "metadata": {},
   "outputs": [],
   "source": [
    "## Create a random policy:\n",
    "class RandomPolicy(Policy):\n",
    "    def get_next_action(self, state):\n",
    "        action = self.action_space.sample()\n",
    "        return action"
   ]
  },
  {
   "cell_type": "code",
   "execution_count": 11,
   "metadata": {},
   "outputs": [],
   "source": [
    "env = gym.make('CartPole-v0')\n",
    "random_policy = RandomPolicy(env)"
   ]
  },
  {
   "cell_type": "code",
   "execution_count": 12,
   "metadata": {},
   "outputs": [
    {
     "name": "stdout",
     "output_type": "stream",
     "text": [
      "cart_position: -0.040489677292753594, \n",
      "cart_velocity: -0.0017911505501419095 \n",
      "pole_angle -0.01906615163274733, \n",
      "pole_velocity 0.013454913819935799\n",
      "right\n",
      "\n",
      "==========\n",
      "\n",
      "cart_position: 0.01792027537687163, \n",
      "cart_velocity: 0.049595158271136364 \n",
      "pole_angle -0.023119581956618285, \n",
      "pole_velocity -0.014386709235517173\n",
      "right\n",
      "\n",
      "==========\n",
      "\n",
      "cart_position: 0.006687556486496507, \n",
      "cart_velocity: 0.003749312349641952 \n",
      "pole_angle 0.04117240419634395, \n",
      "pole_velocity 0.015855296707534258\n",
      "right\n",
      "\n",
      "==========\n",
      "\n"
     ]
    }
   ],
   "source": [
    "for i in range(3):\n",
    "    observation = env.reset()\n",
    "    action = random_policy.get_next_action(observation)\n",
    "    random_policy.print_state(observation)\n",
    "    print(random_policy.get_name(action))\n",
    "    print('\\n==========\\n')"
   ]
  },
  {
   "cell_type": "code",
   "execution_count": 13,
   "metadata": {},
   "outputs": [
    {
     "name": "stdout",
     "output_type": "stream",
     "text": [
      "Episode finished after 18 timesteps\n",
      "Episode finished after 26 timesteps\n",
      "Episode finished after 36 timesteps\n",
      "Episode finished after 13 timesteps\n",
      "Episode finished after 30 timesteps\n"
     ]
    }
   ],
   "source": [
    "for i_episode in range(5):\n",
    "    observation = env.reset()\n",
    "    for t in range(1000):\n",
    "        env.render()\n",
    "        # take random action\n",
    "        action = random_policy.get_next_action(observation)\n",
    "        observation, reward, done, info = env.step(action)\n",
    "        if done:\n",
    "            print(\"Episode finished after {} timesteps\".format(t+1))\n",
    "            break\n",
    "env.close()"
   ]
  },
  {
   "cell_type": "code",
   "execution_count": 14,
   "metadata": {},
   "outputs": [],
   "source": [
    "# all fail after less than 50 steps!!!"
   ]
  },
  {
   "cell_type": "code",
   "execution_count": 15,
   "metadata": {},
   "outputs": [],
   "source": [
    "from PIL import Image"
   ]
  },
  {
   "cell_type": "code",
   "execution_count": 16,
   "metadata": {},
   "outputs": [
    {
     "data": {
      "image/png": "[encoded data removed]",
      "text/plain": [
       "<PIL.PngImagePlugin.PngImageFile image mode=RGBA size=778x584 at 0x7FD3D20CC898>"
      ]
     },
     "execution_count": 16,
     "metadata": {},
     "output_type": "execute_result"
    }
   ],
   "source": [
    "Image.open(\"./sample_state.png\")"
   ]
  },
  {
   "cell_type": "markdown",
   "metadata": {},
   "source": [
    "Now intuitively, we’ll want to straighten the pole back up by pushing the cart to the right. \n",
    "\n",
    "I’ve taken a good policy from one of my training runs and \n",
    "\n",
    "its policy array reads: [-0.116, 0.332, 0.207 0.352]. \n",
    "\n",
    "Let’s do the math real quick by hand and see what this policy will output as an action for this state.\n",
    "\n"
   ]
  },
  {
   "cell_type": "code",
   "execution_count": 17,
   "metadata": {},
   "outputs": [],
   "source": [
    "## Create a statistic policy:\n",
    "import numpy as np\n",
    "class StatisticPolicy(Policy):\n",
    "    def __init__(self, env, policy):\n",
    "        self.action_space = env.action_space\n",
    "        self.policy = policy\n",
    "        self.action_names = ['left', 'right']\n",
    "    \n",
    "    def update_policy(self, policy):\n",
    "        self.policy = policy\n",
    "        \n",
    "    def get_next_action(self, state):\n",
    "        action = np.dot(state, self.policy)\n",
    "        if action < 0:\n",
    "            return 0 # pushing to the left\n",
    "        else:\n",
    "            return 1 # pushing to the right"
   ]
  },
  {
   "cell_type": "code",
   "execution_count": 18,
   "metadata": {},
   "outputs": [],
   "source": [
    "statistic_policy = StatisticPolicy(env, np.array([-0.116, 0.332, 0.207, 0.352]))"
   ]
  },
  {
   "cell_type": "code",
   "execution_count": 19,
   "metadata": {
    "scrolled": false
   },
   "outputs": [
    {
     "name": "stdout",
     "output_type": "stream",
     "text": [
      "cart_position: -0.015106649888446198, \n",
      "cart_velocity: -0.03757811824984077 \n",
      "pole_angle 0.02238285735765136, \n",
      "pole_velocity 0.045793804614445655\n",
      "right\n",
      "\n",
      "==========\n",
      "\n",
      "cart_position: -0.0011923728953741053, \n",
      "cart_velocity: 0.035082233652551295 \n",
      "pole_angle 0.01079520829672189, \n",
      "pole_velocity -0.016994300293552665\n",
      "right\n",
      "\n",
      "==========\n",
      "\n",
      "cart_position: 0.013754574446472365, \n",
      "cart_velocity: -0.01241078533170329 \n",
      "pole_angle -0.038683524093090664, \n",
      "pole_velocity 0.033189973361485464\n",
      "left\n",
      "\n",
      "==========\n",
      "\n"
     ]
    }
   ],
   "source": [
    "for i in range(3):\n",
    "    observation = env.reset()\n",
    "    action = statistic_policy.get_next_action(observation)\n",
    "    statistic_policy.print_state(observation)\n",
    "    print(statistic_policy.get_name(action))\n",
    "    print('\\n==========\\n')"
   ]
  },
  {
   "cell_type": "code",
   "execution_count": 20,
   "metadata": {
    "scrolled": true
   },
   "outputs": [
    {
     "data": {
      "text/plain": [
       "{}"
      ]
     },
     "execution_count": 20,
     "metadata": {},
     "output_type": "execute_result"
    }
   ],
   "source": [
    "info"
   ]
  },
  {
   "cell_type": "code",
   "execution_count": 21,
   "metadata": {
    "scrolled": true
   },
   "outputs": [
    {
     "name": "stdout",
     "output_type": "stream",
     "text": [
      "Episode finished after 200 timesteps\n",
      "Episode finished after 200 timesteps\n",
      "Episode finished after 200 timesteps\n"
     ]
    }
   ],
   "source": [
    "for i_episode in range(3):\n",
    "    observation = env.reset()\n",
    "    for t in range(10000):\n",
    "        env.render()\n",
    "        # take random action\n",
    "        action = statistic_policy.get_next_action(observation)\n",
    "        observation, reward, done, info = env.step(action)\n",
    "#         print(done, reward, observation)\n",
    "        if done:\n",
    "            print(\"Episode finished after {} timesteps\".format(t+1))\n",
    "            break\n",
    "env.close()"
   ]
  },
  {
   "cell_type": "code",
   "execution_count": 22,
   "metadata": {},
   "outputs": [],
   "source": [
    "# The max_episode_steps only 200 steps. We can only play 200 steps for each game."
   ]
  },
  {
   "cell_type": "code",
   "execution_count": 23,
   "metadata": {
    "scrolled": true
   },
   "outputs": [
    {
     "name": "stdout",
     "output_type": "stream",
     "text": [
      "Episode finished after 500 timesteps\n",
      "Episode finished after 500 timesteps\n",
      "Episode finished after 500 timesteps\n"
     ]
    }
   ],
   "source": [
    "# let set max episode steps = 500\n",
    "env._max_episode_steps = 500\n",
    "\n",
    "for i_episode in range(3):\n",
    "    observation = env.reset()\n",
    "    for t in range(10000):\n",
    "        env.render()\n",
    "        action = statistic_policy.get_next_action(observation)\n",
    "        observation, reward, done, info = env.step(action)\n",
    "#         print(done, reward, observation)\n",
    "        if done:\n",
    "            print(\"Episode finished after {} timesteps\".format(t+1))\n",
    "            break\n",
    "env.close()"
   ]
  },
  {
   "cell_type": "code",
   "execution_count": 24,
   "metadata": {},
   "outputs": [],
   "source": [
    "# let make the code easy to read:\n",
    "def play(env, policy):\n",
    "    for i_episode in range(3):\n",
    "        observation = env.reset()\n",
    "        for t in range(10000):\n",
    "            env.render()\n",
    "            action = policy.get_next_action(observation)\n",
    "            observation, reward, done, info = env.step(action)\n",
    "    #         print(done, reward, observation)\n",
    "            if done:\n",
    "                print(\"Episode finished after {} timesteps\".format(t+1))\n",
    "                break\n",
    "    env.close()"
   ]
  },
  {
   "cell_type": "code",
   "execution_count": 25,
   "metadata": {
    "scrolled": true
   },
   "outputs": [
    {
     "name": "stdout",
     "output_type": "stream",
     "text": [
      "Episode finished after 500 timesteps\n",
      "Episode finished after 500 timesteps\n",
      "Episode finished after 500 timesteps\n"
     ]
    }
   ],
   "source": [
    "env._max_episode_steps = 500\n",
    "play(env, statistic_policy)"
   ]
  },
  {
   "cell_type": "markdown",
   "metadata": {},
   "source": [
    "## Policy Search\n",
    "How to find good policy search"
   ]
  },
  {
   "cell_type": "code",
   "execution_count": 26,
   "metadata": {},
   "outputs": [
    {
     "name": "stdout",
     "output_type": "stream",
     "text": [
      "[4.8000002e+00 3.4028235e+38 4.1887903e-01 3.4028235e+38]\n",
      "[-4.8000002e+00 -3.4028235e+38 -4.1887903e-01 -3.4028235e+38]\n"
     ]
    }
   ],
   "source": [
    "print(env.observation_space.high)\n",
    "print(env.observation_space.low)"
   ]
  },
  {
   "cell_type": "code",
   "execution_count": 27,
   "metadata": {},
   "outputs": [],
   "source": [
    "# cart_position: 0.019116420545397472, \n",
    "# cart_velocity: -0.009272760733395932 \n",
    "# pole_angle 0.03902117151277583, \n",
    "# pole_velocity -0.008606676659720348"
   ]
  },
  {
   "cell_type": "code",
   "execution_count": 28,
   "metadata": {},
   "outputs": [],
   "source": [
    "# we can check all posible policy\n",
    "# cart_position in range [-4.8, 4.8]\n",
    "# cart_velocity in range [-3, 3]\n",
    "# pole_angle in range [-.4, .4]\n",
    "# pole_velocity in range [-4, 4]\n",
    "def create_range(min_value, max_value, step = 1.0):\n",
    "    return np.arange(min_value, max_value, step)\n",
    "\n",
    "cart_positions = create_range(-3, 3)\n",
    "cart_velocities = create_range(-3, 3)\n",
    "pole_angles = create_range(-3, 3)\n",
    "pole_velocities = create_range(-3, 3)"
   ]
  },
  {
   "cell_type": "code",
   "execution_count": 219,
   "metadata": {},
   "outputs": [],
   "source": [
    "def play(env, policy, n=10, render=True):\n",
    "    scores = []\n",
    "    for i_episode in range(n):\n",
    "        observation = env.reset()\n",
    "        for t in range(1000):\n",
    "            if render:\n",
    "                env.render()\n",
    "            action = policy.get_next_action(observation)\n",
    "            observation, reward, done, info = env.step(action)\n",
    "            if done:\n",
    "                scores.append(t)\n",
    "                break\n",
    "    env.close()\n",
    "    return min(scores)"
   ]
  },
  {
   "cell_type": "code",
   "execution_count": 118,
   "metadata": {
    "scrolled": true
   },
   "outputs": [
    {
     "data": {
      "text/plain": [
       "9"
      ]
     },
     "execution_count": 118,
     "metadata": {},
     "output_type": "execute_result"
    }
   ],
   "source": [
    "play(env, RandomPolicy(env))"
   ]
  },
  {
   "cell_type": "code",
   "execution_count": 119,
   "metadata": {},
   "outputs": [],
   "source": [
    "def validate_policy(env, cart_positions, cart_velocities, pole_angles, pole_velocities):\n",
    "    statistic_policy = StatisticPolicy(env, np.array([0,0,0,0]))\n",
    "    count = 0\n",
    "    result = []\n",
    "    for cart_position in cart_positions:\n",
    "        for cart_velocity in cart_velocities:\n",
    "            for pole_angle in pole_angles:\n",
    "                for pole_velocity in pole_velocities:\n",
    "                    policy_array = np.array([cart_position, cart_velocity, pole_angle, pole_velocity])\n",
    "                    statistic_policy.update_policy(policy_array)\n",
    "                    score = play(env, statistic_policy, render=False)\n",
    "                    result.append((score, policy_array))\n",
    "                    count = count + 1\n",
    "    print(count)\n",
    "    return result"
   ]
  },
  {
   "cell_type": "code",
   "execution_count": 120,
   "metadata": {},
   "outputs": [
    {
     "name": "stdout",
     "output_type": "stream",
     "text": [
      "1296\n"
     ]
    }
   ],
   "source": [
    "cart_positions = create_range(-3, 3)\n",
    "cart_velocities = create_range(-3, 3)\n",
    "pole_angles = create_range(-3, 3)\n",
    "pole_velocities = create_range(-3, 3)\n",
    "result = validate_policy(env, cart_positions, cart_velocities, pole_angles, pole_velocities)"
   ]
  },
  {
   "cell_type": "code",
   "execution_count": 121,
   "metadata": {},
   "outputs": [
    {
     "name": "stdout",
     "output_type": "stream",
     "text": [
      "21 14 10\n"
     ]
    }
   ],
   "source": [
    "# check number of policy > 100, > 200:\n",
    "print(len([score for score, _ in result if score > 200]),len([score for score, _ in result if score > 300]), len([score for score, _ in result if score > 490])) "
   ]
  },
  {
   "cell_type": "code",
   "execution_count": 122,
   "metadata": {},
   "outputs": [
    {
     "data": {
      "text/plain": [
       "499"
      ]
     },
     "execution_count": 122,
     "metadata": {},
     "output_type": "execute_result"
    }
   ],
   "source": [
    "max([score for score, _ in result])"
   ]
  },
  {
   "cell_type": "code",
   "execution_count": 123,
   "metadata": {},
   "outputs": [],
   "source": [
    "# let do some statistic on the best policy:\n",
    "best_policy_array = [policy_array for score, policy_array in result if score > 300]"
   ]
  },
  {
   "cell_type": "code",
   "execution_count": 149,
   "metadata": {},
   "outputs": [
    {
     "data": {
      "text/plain": [
       "363"
      ]
     },
     "execution_count": 149,
     "metadata": {},
     "output_type": "execute_result"
    }
   ],
   "source": [
    "# check some best_policy_array:\n",
    "statistic_policy.update_policy(best_policy_array[1])\n",
    "play(env, statistic_policy, render=False)"
   ]
  },
  {
   "cell_type": "code",
   "execution_count": 150,
   "metadata": {},
   "outputs": [],
   "source": [
    "t = np.stack(best_policy_array)"
   ]
  },
  {
   "cell_type": "code",
   "execution_count": 151,
   "metadata": {},
   "outputs": [
    {
     "data": {
      "text/plain": [
       "(array([-1.,  0.,  0.,  1.]), array([1., 2., 2., 2.]))"
      ]
     },
     "execution_count": 151,
     "metadata": {},
     "output_type": "execute_result"
    }
   ],
   "source": [
    "mins, maxs = t.min(axis=0), t.max(axis=0)\n",
    "mins, maxs"
   ]
  },
  {
   "cell_type": "code",
   "execution_count": 154,
   "metadata": {},
   "outputs": [],
   "source": [
    "positions = [create_range(i,j,.2) for i,j in zip(mins,maxs)]"
   ]
  },
  {
   "cell_type": "code",
   "execution_count": 155,
   "metadata": {},
   "outputs": [
    {
     "data": {
      "text/plain": [
       "[array([-1.00000000e+00, -8.00000000e-01, -6.00000000e-01, -4.00000000e-01,\n",
       "        -2.00000000e-01, -2.22044605e-16,  2.00000000e-01,  4.00000000e-01,\n",
       "         6.00000000e-01,  8.00000000e-01]),\n",
       " array([0. , 0.2, 0.4, 0.6, 0.8, 1. , 1.2, 1.4, 1.6, 1.8]),\n",
       " array([0. , 0.2, 0.4, 0.6, 0.8, 1. , 1.2, 1.4, 1.6, 1.8]),\n",
       " array([1. , 1.2, 1.4, 1.6, 1.8])]"
      ]
     },
     "execution_count": 155,
     "metadata": {},
     "output_type": "execute_result"
    }
   ],
   "source": [
    "positions"
   ]
  },
  {
   "cell_type": "code",
   "execution_count": 156,
   "metadata": {},
   "outputs": [
    {
     "name": "stdout",
     "output_type": "stream",
     "text": [
      "5000\n"
     ]
    }
   ],
   "source": [
    "result = validate_policy(env, *positions)"
   ]
  },
  {
   "cell_type": "code",
   "execution_count": 157,
   "metadata": {},
   "outputs": [
    {
     "name": "stdout",
     "output_type": "stream",
     "text": [
      "2776 1958 1232\n"
     ]
    }
   ],
   "source": [
    "# check number of policy > 100, > 200:\n",
    "print(len([score for score, _ in result if score > 200]),len([score for score, _ in result if score > 300]), len([score for score, _ in result if score > 490])) "
   ]
  },
  {
   "cell_type": "code",
   "execution_count": 221,
   "metadata": {},
   "outputs": [
    {
     "name": "stdout",
     "output_type": "stream",
     "text": [
      "max score 499\n"
     ]
    }
   ],
   "source": [
    "# only choose the policies have score > 400:\n",
    "print('max score', max([score for score, _ in result]))\n",
    "best_policy_array = [policy_array for score, policy_array in result if score > 480]"
   ]
  },
  {
   "cell_type": "code",
   "execution_count": 245,
   "metadata": {},
   "outputs": [
    {
     "data": {
      "text/plain": [
       "441"
      ]
     },
     "execution_count": 245,
     "metadata": {},
     "output_type": "execute_result"
    }
   ],
   "source": [
    "# check some best_policy_array:\n",
    "statistic_policy.update_policy(best_policy_array[2])\n",
    "play(env, statistic_policy, render=False)"
   ]
  },
  {
   "cell_type": "code",
   "execution_count": 246,
   "metadata": {},
   "outputs": [
    {
     "data": {
      "text/plain": [
       "139"
      ]
     },
     "execution_count": 246,
     "metadata": {},
     "output_type": "execute_result"
    }
   ],
   "source": [
    "len(best_policy_array)"
   ]
  },
  {
   "cell_type": "code",
   "execution_count": 253,
   "metadata": {},
   "outputs": [],
   "source": [
    "# We have 139 promised policies, we will run test on it 100 times and accept that policy if all scores > 499.\n",
    "accepted_array = []\n",
    "for array in best_policy_array:\n",
    "    statistic_policy.update_policy(array)\n",
    "    min_score = play(env, statistic_policy, n=100, render=False)\n",
    "    if min_score == 499:\n",
    "        accepted_array.append(array)"
   ]
  },
  {
   "cell_type": "code",
   "execution_count": 255,
   "metadata": {},
   "outputs": [
    {
     "data": {
      "text/plain": [
       "120"
      ]
     },
     "execution_count": 255,
     "metadata": {},
     "output_type": "execute_result"
    }
   ],
   "source": [
    "len(accepted_array)"
   ]
  },
  {
   "cell_type": "code",
   "execution_count": 265,
   "metadata": {},
   "outputs": [
    {
     "data": {
      "text/plain": [
       "499"
      ]
     },
     "execution_count": 265,
     "metadata": {},
     "output_type": "execute_result"
    }
   ],
   "source": [
    "import random\n",
    "statistic_policy.update_policy(accepted_array[random.randint(0, len(accepted_array))])\n",
    "play(env, statistic_policy, n=100, render=False)"
   ]
  }
 ],
 "metadata": {
  "kernelspec": {
   "display_name": "Python 3",
   "language": "python",
   "name": "python3"
  },
  "language_info": {
   "codemirror_mode": {
    "name": "ipython",
    "version": 3
   },
   "file_extension": ".py",
   "mimetype": "text/x-python",
   "name": "python",
   "nbconvert_exporter": "python",
   "pygments_lexer": "ipython3",
   "version": "3.6.8"
  }
 },
 "nbformat": 4,
 "nbformat_minor": 2
}
